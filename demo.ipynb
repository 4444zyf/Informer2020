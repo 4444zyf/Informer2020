{
 "cells": [
  {
   "cell_type": "code",
   "execution_count": 1,
   "metadata": {},
   "outputs": [
    {
     "name": "stderr",
     "output_type": "stream",
     "text": [
      "d:\\Apps\\Anaconda3\\envs\\torch-gpu\\lib\\site-packages\\tqdm\\auto.py:22: TqdmWarning: IProgress not found. Please update jupyter and ipywidgets. See https://ipywidgets.readthedocs.io/en/stable/user_install.html\n",
      "  from .autonotebook import tqdm as notebook_tqdm\n"
     ]
    }
   ],
   "source": [
    "from ExpSetting import ExpSetting"
   ]
  },
  {
   "cell_type": "code",
   "execution_count": 2,
   "metadata": {},
   "outputs": [
    {
     "name": "stdout",
     "output_type": "stream",
     "text": [
      "'Args in experiment:'\n",
      "namespace(model='informer',\n",
      "          data='ETTh1',\n",
      "          root_path='./data/ETT/',\n",
      "          data_path='ETTh1.csv',\n",
      "          features='M',\n",
      "          target='OT',\n",
      "          freq='h',\n",
      "          checkpoints='./checkpoints/',\n",
      "          seq_len=96,\n",
      "          label_len=48,\n",
      "          pred_len=24,\n",
      "          enc_in=7,\n",
      "          dec_in=7,\n",
      "          c_out=7,\n",
      "          d_model=512,\n",
      "          n_heads=8,\n",
      "          e_layers=2,\n",
      "          d_layers=1,\n",
      "          s_layers=[3, 2, 1],\n",
      "          d_ff=2048,\n",
      "          factor=5,\n",
      "          padding=0,\n",
      "          distil=True,\n",
      "          dropout=0.05,\n",
      "          attn='prob',\n",
      "          embed='timeF',\n",
      "          activation='gelu',\n",
      "          output_attention=False,\n",
      "          do_predict=False,\n",
      "          mix=True,\n",
      "          cols=None,\n",
      "          num_workers=0,\n",
      "          itr=1,\n",
      "          train_epochs=6,\n",
      "          batch_size=32,\n",
      "          patience=3,\n",
      "          learning_rate=0.0001,\n",
      "          des='test',\n",
      "          loss='mse',\n",
      "          lradj='type1',\n",
      "          use_amp=False,\n",
      "          inverse=False,\n",
      "          use_gpu=True,\n",
      "          gpu=0,\n",
      "          use_multi_gpu=False,\n",
      "          devices='0,1,2,3',\n",
      "          detail_freq='h')\n"
     ]
    }
   ],
   "source": [
    "instance = ExpSetting()\n",
    "#instance.train('trial')"
   ]
  },
  {
   "cell_type": "code",
   "execution_count": 3,
   "metadata": {},
   "outputs": [
    {
     "name": "stdout",
     "output_type": "stream",
     "text": [
      "Use GPU: cuda:0\n",
      ">>>>>>>predicting : informer_ETTh1_ftM_sl96_ll48_pl24_dm512_nh8_el2_dl1_df2048_atprob_fc5_ebtimeF_dtTrue_mxTrue_test_1<<<<<<<<<<<<<<<<<<<<<<<<<<<<<<<<<\n",
      "pred 1\n",
      "成功加载checkpoint: trial\n",
      "成功保存预测数据。\n",
      "Predicted data: \n",
      "[[[ 0.31591123  0.24074213  0.32791752  0.17487817 -0.20921054\n",
      "    0.34869498 -0.3186754 ]\n",
      "  [ 0.19685858  0.31451708  0.31322902  0.31985778 -0.4592433\n",
      "    0.28484106 -0.33196515]\n",
      "  [ 0.3185933   0.27160674  0.288023    0.29573107 -0.32379422\n",
      "    0.3239323  -0.34731346]\n",
      "  [ 0.23255843  0.24784912  0.22603627  0.22022857 -0.5032148\n",
      "    0.23048013 -0.38600144]\n",
      "  [ 0.31131476  0.5414267   0.38149965  0.5719755  -0.64485455\n",
      "    0.2965754  -0.486296  ]\n",
      "  [ 0.24773139  0.6721308   0.54913276  0.6048748  -0.70540345\n",
      "    0.29070717 -0.5556443 ]\n",
      "  [ 0.34562045  0.5986947   0.608275    0.74162227 -1.0195688\n",
      "    0.1878251  -0.53879076]\n",
      "  [ 0.38585415  0.7523826   0.5132832   0.77472997 -0.891036\n",
      "    0.3288935  -0.6373409 ]\n",
      "  [ 0.34535733  0.6658585   0.45906228  0.6784485  -0.7755227\n",
      "    0.34249824 -0.70700014]\n",
      "  [ 0.02353534  0.85839045  0.09452887  0.7382053  -0.5601225\n",
      "    0.45464    -0.64540774]\n",
      "  [-0.16800946  0.6925211  -0.16075028  0.6674327  -0.6287583\n",
      "    0.44860965 -0.71933997]\n",
      "  [-0.863205    0.80189526 -0.80210865  0.83892816 -0.58965695\n",
      "    0.48039523 -0.66333264]\n",
      "  [-1.3149081   0.8135787  -1.2932544   0.7819245  -0.5719093\n",
      "    0.46451947 -0.64255244]\n",
      "  [-1.6251782   0.7889058  -1.6209775   0.7544471  -0.5817302\n",
      "    0.45507708 -0.5978005 ]\n",
      "  [-1.8397858   0.76564133 -1.839904    0.73515326 -0.5757803\n",
      "    0.43862695 -0.5728892 ]\n",
      "  [-2.3604643   0.79236364 -2.405576    0.83099425 -0.65005183\n",
      "    0.25767958 -0.45517907]\n",
      "  [-2.1760764   0.825951   -2.1958857   0.8187068  -0.5212548\n",
      "    0.24449916 -0.37540746]\n",
      "  [-2.0501773   0.6796158  -2.0523295   0.64334804 -0.5394402\n",
      "    0.32432938 -0.411209  ]\n",
      "  [-1.6805354   0.60871446 -1.6920755   0.58983505 -0.54273826\n",
      "    0.29545838 -0.35142955]\n",
      "  [-1.1548173   0.5326033  -1.1874769   0.5087587  -0.52655774\n",
      "    0.24596307 -0.2682314 ]\n",
      "  [-0.7520731   0.35152012 -0.7366764   0.34705698 -0.41228637\n",
      "    0.30994603 -0.28402722]\n",
      "  [-0.6212554   0.30232924 -0.6044281   0.37431353 -0.62508076\n",
      "    0.23408039 -0.1385303 ]\n",
      "  [-0.44453382  0.22967891 -0.4395768   0.19510265 -0.35361475\n",
      "    0.22804391 -0.32422987]\n",
      "  [-0.30295378  0.119482   -0.34806633  0.14463735 -0.29408184\n",
      "    0.32441998 -0.34900093]]]\n"
     ]
    }
   ],
   "source": [
    "data = instance.predict('trial' , show=True)"
   ]
  },
  {
   "cell_type": "code",
   "execution_count": 4,
   "metadata": {},
   "outputs": [
    {
     "name": "stdout",
     "output_type": "stream",
     "text": [
      "(1, 24, 7)\n"
     ]
    }
   ],
   "source": [
    "print(data.shape)"
   ]
  }
 ],
 "metadata": {
  "kernelspec": {
   "display_name": "torch-gpu",
   "language": "python",
   "name": "python3"
  },
  "language_info": {
   "codemirror_mode": {
    "name": "ipython",
    "version": 3
   },
   "file_extension": ".py",
   "mimetype": "text/x-python",
   "name": "python",
   "nbconvert_exporter": "python",
   "pygments_lexer": "ipython3",
   "version": "3.10.6"
  }
 },
 "nbformat": 4,
 "nbformat_minor": 2
}
