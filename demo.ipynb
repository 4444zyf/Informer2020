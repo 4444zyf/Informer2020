{
 "cells": [
  {
   "cell_type": "code",
   "execution_count": 1,
   "metadata": {},
   "outputs": [
    {
     "name": "stderr",
     "output_type": "stream",
     "text": [
      "d:\\Apps\\Anaconda3\\envs\\torch-gpu\\lib\\site-packages\\tqdm\\auto.py:22: TqdmWarning: IProgress not found. Please update jupyter and ipywidgets. See https://ipywidgets.readthedocs.io/en/stable/user_install.html\n",
      "  from .autonotebook import tqdm as notebook_tqdm\n"
     ]
    }
   ],
   "source": [
    "from ExpSetting import ExpSetting"
   ]
  },
  {
   "cell_type": "code",
   "execution_count": 2,
   "metadata": {},
   "outputs": [
    {
     "name": "stdout",
     "output_type": "stream",
     "text": [
      "'Args in experiment:'\n",
      "namespace(model='informer',\n",
      "          data='ETTh1',\n",
      "          root_path='./data/ETT/',\n",
      "          data_path='ETTh1.csv',\n",
      "          features='M',\n",
      "          target='OT',\n",
      "          freq='h',\n",
      "          checkpoints='./checkpoints/',\n",
      "          seq_len=96,\n",
      "          label_len=48,\n",
      "          pred_len=24,\n",
      "          enc_in=7,\n",
      "          dec_in=7,\n",
      "          c_out=7,\n",
      "          d_model=512,\n",
      "          n_heads=8,\n",
      "          e_layers=2,\n",
      "          d_layers=1,\n",
      "          s_layers=[3, 2, 1],\n",
      "          d_ff=2048,\n",
      "          factor=5,\n",
      "          padding=0,\n",
      "          distil=True,\n",
      "          dropout=0.05,\n",
      "          attn='prob',\n",
      "          embed='timeF',\n",
      "          activation='gelu',\n",
      "          output_attention=False,\n",
      "          do_predict=False,\n",
      "          mix=True,\n",
      "          cols=None,\n",
      "          num_workers=0,\n",
      "          itr=1,\n",
      "          train_epochs=6,\n",
      "          batch_size=32,\n",
      "          patience=3,\n",
      "          learning_rate=0.0001,\n",
      "          des='test',\n",
      "          loss='mse',\n",
      "          lradj='type1',\n",
      "          use_amp=False,\n",
      "          inverse=False,\n",
      "          use_gpu=True,\n",
      "          gpu=0,\n",
      "          use_multi_gpu=False,\n",
      "          devices='0,1,2,3',\n",
      "          detail_freq='h')\n"
     ]
    }
   ],
   "source": [
    "instance = ExpSetting()\n",
    "#instance.train('trial')"
   ]
  },
  {
   "cell_type": "code",
   "execution_count": 3,
   "metadata": {},
   "outputs": [
    {
     "name": "stdout",
     "output_type": "stream",
     "text": [
      "Use GPU: cuda:0\n",
      ">>>>>>>predicting : informer_ETTh1_ftM_sl96_ll48_pl24_dm512_nh8_el2_dl1_df2048_atprob_fc5_ebtimeF_dtTrue_mxTrue_test_1<<<<<<<<<<<<<<<<<<<<<<<<<<<<<<<<<\n",
      "pred 1\n"
     ]
    }
   ],
   "source": [
    "instance.predict('trial')"
   ]
  },
  {
   "cell_type": "code",
   "execution_count": null,
   "metadata": {},
   "outputs": [],
   "source": [
    "import matplotlib.pyplot as plt\n",
    "import numpy as np\n"
   ]
  }
 ],
 "metadata": {
  "kernelspec": {
   "display_name": "torch-gpu",
   "language": "python",
   "name": "python3"
  },
  "language_info": {
   "codemirror_mode": {
    "name": "ipython",
    "version": 3
   },
   "file_extension": ".py",
   "mimetype": "text/x-python",
   "name": "python",
   "nbconvert_exporter": "python",
   "pygments_lexer": "ipython3",
   "version": "3.10.6"
  }
 },
 "nbformat": 4,
 "nbformat_minor": 2
}
