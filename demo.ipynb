{
 "cells": [
  {
   "cell_type": "code",
   "execution_count": 1,
   "metadata": {},
   "outputs": [
    {
     "name": "stderr",
     "output_type": "stream",
     "text": [
      "d:\\Apps\\Anaconda3\\envs\\torch-gpu\\lib\\site-packages\\tqdm\\auto.py:22: TqdmWarning: IProgress not found. Please update jupyter and ipywidgets. See https://ipywidgets.readthedocs.io/en/stable/user_install.html\n",
      "  from .autonotebook import tqdm as notebook_tqdm\n"
     ]
    }
   ],
   "source": [
    "from ExpSetting import ExpSetting"
   ]
  },
  {
   "cell_type": "code",
   "execution_count": 2,
   "metadata": {},
   "outputs": [
    {
     "name": "stdout",
     "output_type": "stream",
     "text": [
      "'Args in experiment:'\n",
      "namespace(model='informer',\n",
      "          data='ETTh1',\n",
      "          root_path='./data/ETT/',\n",
      "          data_path='ETTh1.csv',\n",
      "          features='M',\n",
      "          target='OT',\n",
      "          freq='h',\n",
      "          checkpoints='./checkpoints/',\n",
      "          seq_len=96,\n",
      "          label_len=48,\n",
      "          pred_len=24,\n",
      "          enc_in=7,\n",
      "          dec_in=7,\n",
      "          c_out=7,\n",
      "          d_model=512,\n",
      "          n_heads=8,\n",
      "          e_layers=2,\n",
      "          d_layers=1,\n",
      "          s_layers=[3, 2, 1],\n",
      "          d_ff=2048,\n",
      "          factor=5,\n",
      "          padding=0,\n",
      "          distil=True,\n",
      "          dropout=0.05,\n",
      "          attn='prob',\n",
      "          embed='timeF',\n",
      "          activation='gelu',\n",
      "          output_attention=False,\n",
      "          do_predict=False,\n",
      "          mix=True,\n",
      "          cols=None,\n",
      "          num_workers=0,\n",
      "          itr=1,\n",
      "          train_epochs=6,\n",
      "          batch_size=32,\n",
      "          patience=3,\n",
      "          learning_rate=0.0001,\n",
      "          des='test',\n",
      "          loss='mse',\n",
      "          lradj='type1',\n",
      "          use_amp=False,\n",
      "          inverse=False,\n",
      "          use_gpu=True,\n",
      "          gpu=0,\n",
      "          use_multi_gpu=False,\n",
      "          devices='0,1,2,3',\n",
      "          detail_freq='h')\n",
      "Use GPU: cuda:0\n",
      ">>>>>>>start training : informer_ETTh1_ftM_sl96_ll48_pl24_dm512_nh8_el2_dl1_df2048_atprob_fc5_ebtimeF_dtTrue_mxTrue_test_1>>>>>>>>>>>>>>>>>>>>>>>>>>\n",
      "train 8521\n",
      "val 2857\n",
      "test 2857\n",
      "\titers: 100, epoch: 1 | loss: 0.4496335\n",
      "\tspeed: 0.1401s/iter; left time: 209.7511s\n",
      "\titers: 200, epoch: 1 | loss: 0.3115295\n",
      "\tspeed: 0.0983s/iter; left time: 137.2873s\n",
      "Epoch: 1 cost time: 30.495798110961914\n",
      "Epoch: 1, Steps: 266 | Train Loss: 0.4181550 Vali Loss: 0.7078230 Test Loss: 0.5896659\n",
      "Validation loss decreased (inf --> 0.707823).  Saving model ...\n",
      "Updating learning rate to 0.0001\n",
      "\titers: 100, epoch: 2 | loss: 0.2792807\n",
      "\tspeed: 0.2344s/iter; left time: 288.5665s\n",
      "\titers: 200, epoch: 2 | loss: 0.2308972\n",
      "\tspeed: 0.1001s/iter; left time: 113.2392s\n",
      "Epoch: 2 cost time: 27.251302003860474\n",
      "Epoch: 2, Steps: 266 | Train Loss: 0.2596551 Vali Loss: 0.6532877 Test Loss: 0.5570121\n",
      "Validation loss decreased (0.707823 --> 0.653288).  Saving model ...\n",
      "Updating learning rate to 5e-05\n",
      "\titers: 100, epoch: 3 | loss: 0.2089035\n",
      "\tspeed: 0.2338s/iter; left time: 225.6340s\n",
      "\titers: 200, epoch: 3 | loss: 0.1907713\n",
      "\tspeed: 0.1012s/iter; left time: 87.5307s\n",
      "Epoch: 3 cost time: 26.757606506347656\n",
      "Epoch: 3, Steps: 266 | Train Loss: 0.2011547 Vali Loss: 0.6721936 Test Loss: 0.6905405\n",
      "EarlyStopping counter: 1 out of 3\n",
      "Updating learning rate to 2.5e-05\n",
      "\titers: 100, epoch: 4 | loss: 0.1800813\n",
      "\tspeed: 0.2601s/iter; left time: 181.8219s\n",
      "\titers: 200, epoch: 4 | loss: 0.1730576\n",
      "\tspeed: 0.1287s/iter; left time: 77.0841s\n",
      "Epoch: 4 cost time: 33.86087512969971\n",
      "Epoch: 4, Steps: 266 | Train Loss: 0.1746044 Vali Loss: 0.6912798 Test Loss: 0.8164286\n",
      "EarlyStopping counter: 2 out of 3\n",
      "Updating learning rate to 1.25e-05\n",
      "\titers: 100, epoch: 5 | loss: 0.1473727\n",
      "\tspeed: 0.3639s/iter; left time: 157.5848s\n",
      "\titers: 200, epoch: 5 | loss: 0.1409940\n",
      "\tspeed: 0.1706s/iter; left time: 56.8086s\n",
      "Epoch: 5 cost time: 44.98311257362366\n",
      "Epoch: 5, Steps: 266 | Train Loss: 0.1617399 Vali Loss: 0.6851820 Test Loss: 0.8119718\n",
      "EarlyStopping counter: 3 out of 3\n",
      "Early stopping\n"
     ]
    }
   ],
   "source": [
    "instance = ExpSetting()\n",
    "instance.train()"
   ]
  },
  {
   "cell_type": "code",
   "execution_count": 3,
   "metadata": {},
   "outputs": [
    {
     "name": "stdout",
     "output_type": "stream",
     "text": [
      "Use GPU: cuda:0\n",
      ">>>>>>>predicting : informer_ETTh1_ftM_sl96_ll48_pl24_dm512_nh8_el2_dl1_df2048_atprob_fc5_ebtimeF_dtTrue_mxTrue_test_1<<<<<<<<<<<<<<<<<<<<<<<<<<<<<<<<<\n",
      "pred 1\n"
     ]
    }
   ],
   "source": [
    "instance.predict()"
   ]
  }
 ],
 "metadata": {
  "kernelspec": {
   "display_name": "torch-gpu",
   "language": "python",
   "name": "python3"
  },
  "language_info": {
   "codemirror_mode": {
    "name": "ipython",
    "version": 3
   },
   "file_extension": ".py",
   "mimetype": "text/x-python",
   "name": "python",
   "nbconvert_exporter": "python",
   "pygments_lexer": "ipython3",
   "version": "3.10.6"
  }
 },
 "nbformat": 4,
 "nbformat_minor": 2
}
